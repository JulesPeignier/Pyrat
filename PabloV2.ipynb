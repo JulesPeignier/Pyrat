{
  "nbformat": 4,
  "nbformat_minor": 0,
  "metadata": {
    "colab": {
      "name": "PabloV2.ipynb",
      "provenance": [],
      "collapsed_sections": []
    },
    "kernelspec": {
      "name": "python3",
      "display_name": "Python 3"
    }
  },
  "cells": [
    {
      "cell_type": "code",
      "metadata": {
        "id": "u5o3QJz9qCCF"
      },
      "source": [
        "# Group : Groupe B2-4 [Equipe 8]\n",
        "# AI name : PabloV2\n",
        "# Members : Jules Peignier, Aymen Kallala \n",
        "# Description : PabloV2 est un greedy par zone de forte densité de fromage, il a deux états. \n",
        "#   -> Le premier où il va dans une zone de forte densité (selon la densité et la distance au joueur)\n",
        "#   -> Le second où il se met en mode Greedy MR, le greedy amélioré"
      ],
      "execution_count": null,
      "outputs": []
    },
    {
      "cell_type": "code",
      "metadata": {
        "id": "EIOssnU_Cddl"
      },
      "source": [
        "MOVE_DOWN = 'D'\n",
        "MOVE_LEFT = 'L'\n",
        "MOVE_RIGHT = 'R'\n",
        "MOVE_UP = 'U'\n",
        " \n",
        " \n",
        "# Librarie containing FIFO structure\n",
        "\n",
        "import numpy as np\n",
        "import heapq"
      ],
      "execution_count": null,
      "outputs": []
    },
    {
      "cell_type": "code",
      "metadata": {
        "id": "4V9TxzlooyAw"
      },
      "source": [
        "def moves_from_locations (locations) :\n",
        "    # Transform a series of locations into corresponding moves to realize it\n",
        "  list_moves=[]\n",
        "  for i in range(len(locations)-1) :\n",
        "    list_moves.append(move_from_locations(locations[i],locations[i+1]))\n",
        "  return list_moves"
      ],
      "execution_count": null,
      "outputs": []
    },
    {
      "cell_type": "code",
      "metadata": {
        "id": "fsa35HDOJ93i"
      },
      "source": [
        "#détermine un mouvement pour deux vecteurs voisins \n",
        "def move_from_locations (source_location, target_location) : \n",
        "    difference = (target_location[0] - source_location[0], target_location[1] - source_location[1])\n",
        "    if difference == (0, -1) :\n",
        "        return MOVE_DOWN\n",
        "    elif difference == (0, 1) :\n",
        "        return MOVE_UP\n",
        "    elif difference == (1, 0) :\n",
        "        return MOVE_RIGHT\n",
        "    elif difference == (-1, 0) :\n",
        "        return MOVE_LEFT\n"
      ],
      "execution_count": null,
      "outputs": []
    },
    {
      "cell_type": "code",
      "metadata": {
        "id": "5EeD0S5yfHQi"
      },
      "source": [
        "# Use the routing table to find the sequence of locations from source to target\n",
        "def find_route (routing_table, source_location, target_location) :\n",
        "  path=[target_location] #On initialise une liste de points en commencant par la fin\n",
        "  current_vertex=target_location\n",
        "  while source_location!=current_vertex:\n",
        "    #tant que le point de départ n'est pas désigné comme destination \n",
        "    parent=routing_table[current_vertex]\n",
        "    #on ajoute les parents à l'itinéraire\n",
        "    path.append(parent)\n",
        "    # le parent devient le vertex de destination\n",
        "    current_vertex=parent\n",
        "  reversed_path = []\n",
        " \n",
        "  while path != [] :\n",
        "      reversed_path.append(path.pop())\n",
        "  return reversed_path\n",
        "  #on retourne la liste pour avoir l'itinéraire du départ vers l'arrivée"
      ],
      "execution_count": null,
      "outputs": []
    },
    {
      "cell_type": "code",
      "metadata": {
        "id": "cZHOaM3TgTId"
      },
      "source": [
        "def meta_graph_route_to_route (meta_graph_route, routing_tables) :\n",
        "  final_path=[]\n",
        "  for i in range (len(meta_graph_route)-1):\n",
        "    final_path+=find_route (routing_tables[meta_graph_route[i]], meta_graph_route[i], meta_graph_route[i+1])[:-1]\n",
        "  final_path.append(meta_graph_route[-1])\n",
        "  return final_path\n",
        "    # Return the sequence of locations in the maze to perform a route in the meta-graph"
      ],
      "execution_count": null,
      "outputs": []
    },
    {
      "cell_type": "code",
      "metadata": {
        "id": "YcyHcCcrFDDG"
      },
      "source": [
        "def push_to_structure (element:tuple,priority_queue) :\n",
        "  heapq.heappush(priority_queue,element)\n",
        "\n",
        "def pop_from_structure (priority_queue) :\n",
        "   return heapq.heappop(priority_queue)\n",
        "\n",
        "# Implementation of BFS in order to create a routing table \n",
        "    \n",
        "def traversal (start_vertex:tuple, graph:dict) :\n",
        "\n",
        "    priority_queue = []\n",
        "    distance={}\n",
        "    #initialitation à l'infini des distances\n",
        "    for elt in graph:\n",
        "      distance[elt]=10**50\n",
        "\n",
        "    # Add the starting vertex with None as parent\n",
        "    push_to_structure((0,start_vertex),priority_queue) \n",
        " \n",
        "    # Initialize the outputs\n",
        "    current_vertex=start_vertex\n",
        "    explored_vertices = [] \n",
        "    routing_table = {} \n",
        "\n",
        "    distance[current_vertex]=0\n",
        "    routing_table[current_vertex]=None\n",
        "    \n",
        "    # Iterate while some vertices remain\n",
        "    while priority_queue!=[] :\n",
        "        \n",
        "        current_distance,current_vertex=pop_from_structure(priority_queue)\n",
        "        \n",
        "        explored_vertices.append(current_vertex)\n",
        "            \n",
        "        for neighbor in graph[current_vertex]:\n",
        "          if neighbor not in explored_vertices:\n",
        "           \n",
        "            push_to_structure((current_distance+graph[current_vertex][neighbor],neighbor),priority_queue)\n",
        "          \n",
        "          if current_distance+graph[current_vertex][neighbor] < distance[neighbor] :\n",
        "           \n",
        "            distance[neighbor] = current_distance+graph[current_vertex][neighbor]\n",
        "           \n",
        "            routing_table[neighbor] = current_vertex\n",
        "                    \n",
        "    return routing_table,distance\n",
        " \n",
        "# Algorithm providing the shortest path between starting location and the piece of cheese"
      ],
      "execution_count": null,
      "outputs": []
    },
    {
      "cell_type": "code",
      "metadata": {
        "id": "STlU6dNx4v16"
      },
      "source": [
        "def build_meta_graph (maze_map, locations) :\n",
        "  routing_table_cheeses={}\n",
        "  meta_graph={ fromage : {} for fromage in locations}\n",
        "  for start_fromage in locations : \n",
        "    routing_table, distance = traversal(start_fromage , maze_map )\n",
        "    routing_table_cheeses[start_fromage] = routing_table\n",
        "    for target_fromage in locations :\n",
        "      meta_graph[start_fromage][target_fromage] = distance[target_fromage]\n",
        "  return meta_graph, routing_table_cheeses\n",
        "#return meta_graph,routing_table_cheeses\n",
        "    # Return the meta-graph and all necessary routing tables"
      ],
      "execution_count": null,
      "outputs": []
    },
    {
      "cell_type": "code",
      "metadata": {
        "id": "OYds8QGSJ5RO"
      },
      "source": [
        "def greedyTurn(current_vertex, meta_graph, pieces_of_cheese):\n",
        "  best_length=10**5\n",
        "  best_fromage=current_vertex\n",
        "  for fromages in meta_graph :\n",
        "    if fromages in pieces_of_cheese:\n",
        "      if meta_graph[current_vertex][fromages] < best_length :\n",
        "        best_length =  meta_graph[current_vertex][fromages]\n",
        "        best_fromage = fromages\n",
        "  return best_fromage"
      ],
      "execution_count": null,
      "outputs": []
    },
    {
      "cell_type": "code",
      "metadata": {
        "id": "r0dvA1CHzM06"
      },
      "source": [
        "def tri(fromages,meta_graph,player_location):\n",
        "    \n",
        "    densite={}\n",
        "    best_alpha1,best_alpha2=0,0\n",
        "    best_target1, best_target2=player_location, player_location\n",
        "\n",
        "    for target in fromages:\n",
        "        densite[target]=0\n",
        "        if 20 < meta_graph[player_location][target] < 300:\n",
        "          for fromage in fromages:\n",
        "              if meta_graph[target][fromage] < 20:\n",
        "                  \n",
        "                  densite[target]+=1\n",
        "          if densite[target] > 5:\n",
        "            d=densite[target]\n",
        "            d=d*np.log(d)\n",
        "            l=meta_graph[player_location][target]\n",
        "            l=l**0.5\n",
        "            alpha=d/l\n",
        "\n",
        "            if alpha > best_alpha1 : \n",
        "                best_alpha1=alpha\n",
        "                best_target1=target\n",
        "            elif alpha > best_alpha2 :\n",
        "                best_alpha2=alpha\n",
        "                best_target2=target\n",
        "    return best_target1, best_target2"
      ],
      "execution_count": null,
      "outputs": []
    },
    {
      "cell_type": "code",
      "metadata": {
        "id": "gBRi3Jzvy0V9"
      },
      "source": [
        "def maze_reducer(maze_map,player_location,pieces_of_cheese):\n",
        "  maze_reduced=maze_map\n",
        "  l=[]\n",
        "  for i in range (12):\n",
        "    for case in maze_reduced:\n",
        "      if len(maze_reduced[case])==1 and case not in [player_location]+pieces_of_cheese :\n",
        "        l.append(case)\n",
        "        for voisin in maze_reduced[case]:\n",
        "          del maze_reduced[voisin][case]\n",
        "    while l != [] :\n",
        "      del maze_reduced[l[0]]\n",
        "      l.pop(0)\n",
        "  return maze_reduced"
      ],
      "execution_count": null,
      "outputs": []
    },
    {
      "cell_type": "code",
      "metadata": {
        "id": "_10064yF6Y1t"
      },
      "source": [
        "def delete(listes,elt):\n",
        "  liste=listes[:]\n",
        "  i=0\n",
        "  while i < len(liste):\n",
        "    if liste[i] != elt :\n",
        "        i+=1\n",
        "    else:\n",
        "        liste.pop(i)\n",
        "        return liste\n",
        "  return liste"
      ],
      "execution_count": null,
      "outputs": []
    },
    {
      "cell_type": "code",
      "metadata": {
        "id": "70pX-J28TmO6"
      },
      "source": [
        "def priority(current_vertex,target,meta_graph,pieces_of_cheese):\n",
        "  #initialisation (racccourcis pour la suite)\n",
        "  gt=greedyTurn(current_vertex, meta_graph, pieces_of_cheese)\n",
        "  mg=meta_graph\n",
        "  cr=current_vertex\n",
        "  t=target\n",
        "\n",
        "  if gt==t:\n",
        "    return [True,gt]\n",
        "  elif abs(mg[cr][t]-(mg[cr][gt]+mg[gt][t])) < 10 :\n",
        "    return [True,gt]\n",
        "  return [False,gt]\n",
        "  "
      ],
      "execution_count": null,
      "outputs": []
    },
    {
      "cell_type": "code",
      "metadata": {
        "id": "ppsmOuVknhjt"
      },
      "source": [
        "\n",
        "def preprocessing (maze_map, maze_width, maze_height, player_location, opponent_location, pieces_of_cheese, time_allowed) :\n",
        "       # Implement the list of moves to perform in the preprocess\n",
        "    \n",
        "    global maze_reduced\n",
        "    global meta_graph\n",
        "    global routing_table_cheeses\n",
        "    \n",
        "    global target\n",
        "    global best_target\n",
        "    global best_target1\n",
        "    global best_target2\n",
        "\n",
        "    global transition\n",
        "    transition=0\n",
        "\n",
        "    target=player_location\n",
        "    best_target=player_location\n",
        "\n",
        "\n",
        "    maze_reduced=maze_reducer(maze_map,player_location,pieces_of_cheese)\n",
        "    meta_graph, routing_table_cheeses= build_meta_graph (maze_reduced, [player_location]+pieces_of_cheese)\n",
        "    best_target1, best_target2 = tri(pieces_of_cheese,meta_graph,player_location)\n",
        "\n",
        "    "
      ],
      "execution_count": null,
      "outputs": []
    },
    {
      "cell_type": "code",
      "metadata": {
        "id": "r8X7DpEPfkTQ"
      },
      "source": [
        "#turn va renvoyer le dernier move de la liste \"list_moves\" à chaque appel\n",
        "dernier_fromage=(0,0)\n",
        "list_moves=[]\n",
        "def turn (maze_map, maze_width, maze_height, player_location, opponent_location, player_score, opponent_score, pieces_of_cheese, time_allowed) :\n",
        "  \n",
        "    global best_target1\n",
        "    global best_target2\n",
        "\n",
        "    if best_target1 in pieces_of_cheese or best_target2 in pieces_of_cheese:\n",
        "      return Area_operating_mode(maze_map, maze_width, maze_height, player_location, opponent_location, player_score, opponent_score, pieces_of_cheese, time_allowed)\n",
        "    return GreedyTurn_operating_mode(maze_map, maze_width, maze_height, player_location, opponent_location, player_score, opponent_score, pieces_of_cheese, time_allowed)\n",
        "      "
      ],
      "execution_count": null,
      "outputs": []
    },
    {
      "cell_type": "code",
      "metadata": {
        "id": "I5Wcrp5HckjX"
      },
      "source": [
        "def Area_operating_mode(maze_map, maze_width, maze_height, player_location, opponent_location, player_score, opponent_score, pieces_of_cheese, time_allowed):\n",
        "    \n",
        "    global maze_reduced\n",
        "    global meta_grah\n",
        "    global routing_table_cheeses\n",
        "    \n",
        "    global list_moves\n",
        "    \n",
        "    global target \n",
        "    global best_target\n",
        "    global best_target1\n",
        "    global best_target2\n",
        "    global dernier_fromage\n",
        "    \n",
        "\n",
        "    if best_target1 in pieces_of_cheese:\n",
        "      best_target=best_target1\n",
        "\n",
        "    else:\n",
        "\n",
        "      best_target=best_target2\n",
        "    \n",
        "    target=best_target\n",
        "    dernier_fromage=target\n",
        "\n",
        "    if list_moves==[]:\n",
        "\n",
        "      pocModified=pieces_of_cheese[:]\n",
        "      path=[]\n",
        "      current_vertex=player_location\n",
        "      prio=priority(current_vertex,best_target,meta_graph,pocModified)\n",
        "\n",
        "      while current_vertex != best_target:\n",
        "\n",
        "        if prio[0] == True :\n",
        "\n",
        "          current_vertex=prio[1]\n",
        "          path.append(current_vertex)\n",
        "          pocModified=delete(pocModified,current_vertex)\n",
        "          prio=priority(current_vertex,best_target,meta_graph,pocModified)\n",
        "        \n",
        "        else :\n",
        "\n",
        "     \n",
        "       \n",
        "          current_vertex=prio[1]\n",
        "          pocModified=delete(pocModified,current_vertex)\n",
        "          prio=priority(current_vertex,best_target,meta_graph,pocModified)\n",
        "      \n",
        "      list_moves=moves_from_locations(meta_graph_route_to_route ([player_location]+path+[best_target], routing_table_cheeses))\n",
        "      return list_moves.pop(0) \n",
        "    return list_moves.pop(0)"
      ],
      "execution_count": null,
      "outputs": []
    },
    {
      "cell_type": "code",
      "metadata": {
        "id": "DcEcJp6Wbtv3"
      },
      "source": [
        "def GreedyTurn_operating_mode(maze_map, maze_width, maze_height, player_location, opponent_location, player_score, opponent_score, pieces_of_cheese, time_allowed):    \n",
        "    \n",
        "    global maze_reduced\n",
        "    global meta_grah\n",
        "    global routing_table_cheeses\n",
        "    \n",
        "    global list_moves\n",
        "    \n",
        "    global target \n",
        "    global best_target\n",
        "    global dernier_fromage\n",
        "\n",
        "    global transition\n",
        "    \n",
        "    if transition == 0 and target!=player_location :\n",
        "\n",
        "      target=greedyTurn(dernier_fromage, meta_graph, pieces_of_cheese)\n",
        "      particular_routing_table=traversal(player_location , maze_reduced )[0]\n",
        "      list_moves=moves_from_locations(find_route (particular_routing_table, player_location, target))\n",
        "      transition = 1\n",
        "      return list_moves.pop(0)\n",
        "      \n",
        "    \n",
        "    if target==player_location:\n",
        "\n",
        "      dernier_fromage=target\n",
        "      target=greedyTurn(player_location, meta_graph, pieces_of_cheese)\n",
        "      list_moves=moves_from_locations(meta_graph_route_to_route ([player_location,target], routing_table_cheeses))\n",
        "      return list_moves.pop(0)\n",
        "    \n",
        "    elif target in pieces_of_cheese:\n",
        "\n",
        "      return list_moves.pop(0)\n",
        "\n",
        "    else :\n",
        "\n",
        "      target=greedyTurn(dernier_fromage, meta_graph, pieces_of_cheese)\n",
        "      particular_routing_table=traversal(player_location , maze_reduced )[0]\n",
        "      list_moves=moves_from_locations(find_route (particular_routing_table, player_location, target))\n",
        "      return list_moves.pop(0)"
      ],
      "execution_count": null,
      "outputs": []
    }
  ]
}