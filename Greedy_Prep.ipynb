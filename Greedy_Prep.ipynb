{
  "nbformat": 4,
  "nbformat_minor": 0,
  "metadata": {
    "colab": {
      "name": "Greedy Prep.ipynb",
      "provenance": [],
      "collapsed_sections": []
    },
    "kernelspec": {
      "name": "python3",
      "display_name": "Python 3"
    }
  },
  "cells": [
    {
      "cell_type": "code",
      "metadata": {
        "id": "yM8dhGokhrCH"
      },
      "source": [
        "# Group : Groupe B2-4 [Equipe 8]\n",
        "# AI name : Greedy preprocessing \n",
        "# Members : Jules Peignier, Aymen Kallala \n",
        "# Description : Greedy Prep est un greedy de base où le chemin est calculé dans le preprocessing"
      ],
      "execution_count": null,
      "outputs": []
    },
    {
      "cell_type": "code",
      "metadata": {
        "id": "EIOssnU_Cddl"
      },
      "source": [
        "MOVE_DOWN = 'D'\n",
        "MOVE_LEFT = 'L'\n",
        "MOVE_RIGHT = 'R'\n",
        "MOVE_UP = 'U'\n",
        " \n",
        " \n",
        "# Librarie containing FIFO structure\n",
        " \n",
        "import heapq"
      ],
      "execution_count": null,
      "outputs": []
    },
    {
      "cell_type": "code",
      "metadata": {
        "id": "YcyHcCcrFDDG"
      },
      "source": [
        "def push_to_structure (element:tuple,priority_queue) :\n",
        "  heapq.heappush(priority_queue,element)\n",
        "\n",
        "def pop_from_structure (priority_queue) :\n",
        "   return heapq.heappop(priority_queue)\n",
        "\n",
        "# Implementation of BFS in order to create a routing table \n",
        "    \n",
        "def traversal (start_vertex:tuple, graph:dict) :\n",
        "\n",
        "    priority_queue = []\n",
        "    distance={}\n",
        "    #initialitation à l'infini des distances\n",
        "    for elt in graph:\n",
        "      distance[elt]=10**50\n",
        "\n",
        "    # Add the starting vertex with None as parent\n",
        "    push_to_structure((0,start_vertex),priority_queue) \n",
        " \n",
        "    # Initialize the outputs\n",
        "    current_vertex=start_vertex\n",
        "    explored_vertices = [] \n",
        "    routing_table = {} \n",
        "\n",
        "    distance[current_vertex]=0\n",
        "    routing_table[current_vertex]=None\n",
        "    \n",
        "    # Iterate while some vertices remain\n",
        "    while priority_queue!=[] :\n",
        "        \n",
        "        current_distance,current_vertex=pop_from_structure(priority_queue)\n",
        "        \n",
        "        explored_vertices.append(current_vertex)\n",
        "            \n",
        "        for neighbor in graph[current_vertex]:\n",
        "          if neighbor not in explored_vertices:\n",
        "           \n",
        "            push_to_structure((current_distance+graph[current_vertex][neighbor],neighbor),priority_queue)\n",
        "          \n",
        "          if current_distance+graph[current_vertex][neighbor] < distance[neighbor] :\n",
        "           \n",
        "            distance[neighbor] = current_distance+graph[current_vertex][neighbor]\n",
        "           \n",
        "            routing_table[neighbor] = current_vertex\n",
        "                    \n",
        "    return routing_table,distance\n",
        " \n",
        "# Algorithm providing the shortest path between starting location and the piece of cheese"
      ],
      "execution_count": null,
      "outputs": []
    },
    {
      "cell_type": "code",
      "metadata": {
        "id": "STlU6dNx4v16"
      },
      "source": [
        "def build_meta_graph (maze_map, locations) :\n",
        "  routing_table_cheeses={}\n",
        "  meta_graph={ fromage : {} for fromage in locations}\n",
        "  for start_fromage in locations : \n",
        "    routing_table, distance = traversal(start_fromage , maze_map )\n",
        "    routing_table_cheeses[start_fromage] = routing_table\n",
        "    for target_fromage in locations :\n",
        "      meta_graph[start_fromage][target_fromage] = distance[target_fromage]\n",
        "  return meta_graph, routing_table_cheeses\n",
        "#return meta_graph,routing_table_cheeses\n",
        "    # Return the meta-graph and all necessary routing tables"
      ],
      "execution_count": null,
      "outputs": []
    },
    {
      "cell_type": "code",
      "metadata": {
        "id": "OYds8QGSJ5RO"
      },
      "source": [
        "def griddy(current_vertex, meta_graph, path):\n",
        "  best_length=10**5\n",
        "  for fromages in meta_graph :\n",
        "    if fromages not in path :\n",
        "      if meta_graph[current_vertex][fromages] < best_length :\n",
        "        best_length =  meta_graph[current_vertex][fromages]\n",
        "        best_fromage = fromages\n",
        "  return best_fromage"
      ],
      "execution_count": null,
      "outputs": []
    },
    {
      "cell_type": "code",
      "metadata": {
        "id": "ruP4oCYoLHYc"
      },
      "source": [
        "def implementation_griddy(current_vertex, meta_graph):\n",
        "  path=[current_vertex]\n",
        "  for i in range(len(meta_graph)-1):\n",
        "    fromage=griddy(current_vertex, meta_graph, path)\n",
        "    path.append(fromage)\n",
        "    current_vertex = fromage\n",
        "  return path\n"
      ],
      "execution_count": null,
      "outputs": []
    },
    {
      "cell_type": "code",
      "metadata": {
        "id": "4V9TxzlooyAw"
      },
      "source": [
        "def moves_from_locations (locations) :\n",
        "    # Transform a series of locations into corresponding moves to realize it\n",
        "  list_moves=[]\n",
        "  k=len(locations)-1\n",
        "  i=0\n",
        "  while k!=0 :\n",
        "    if locations[i]==locations[i+1] :\n",
        "      k-=2\n",
        "      locations.pop(i+1)\n",
        "    else :\n",
        "      k-=1\n",
        "    list_moves.append(move_from_locations(locations[i],locations[i+1]))\n",
        "    i+=1\n",
        "  return list_moves"
      ],
      "execution_count": null,
      "outputs": []
    },
    {
      "cell_type": "code",
      "metadata": {
        "id": "fsa35HDOJ93i"
      },
      "source": [
        "#détermine un mouvement pour deux vecteurs voisins \n",
        "def move_from_locations (source_location, target_location) : \n",
        "    difference = (target_location[0] - source_location[0], target_location[1] - source_location[1])\n",
        "    if difference == (0, -1) :\n",
        "        return MOVE_DOWN\n",
        "    elif difference == (0, 1) :\n",
        "        return MOVE_UP\n",
        "    elif difference == (1, 0) :\n",
        "        return MOVE_RIGHT\n",
        "    elif difference == (-1, 0) :\n",
        "        return MOVE_LEFT\n"
      ],
      "execution_count": null,
      "outputs": []
    },
    {
      "cell_type": "code",
      "metadata": {
        "id": "5EeD0S5yfHQi"
      },
      "source": [
        "# Use the routing table to find the sequence of locations from source to target\n",
        "def find_route (routing_table, source_location, target_location) :\n",
        "  path=[target_location] #On initialise une liste de points en commencant par la fin\n",
        "  current_vertex=target_location\n",
        "  while source_location!=current_vertex:\n",
        "    #tant que le point de départ n'est pas désigné comme destination\n",
        "    parent=routing_table[current_vertex]\n",
        "    #on ajoute les parents à l'itinéraire\n",
        "    path.append(parent)\n",
        "    # le parent devient le vertex de destination\n",
        "    current_vertex=parent\n",
        "  reversed_path = []\n",
        " \n",
        "  while path != [] :\n",
        "      reversed_path.append(path.pop())\n",
        "  return reversed_path\n",
        "  #on retourne la liste pour avoir l'itinéraire du départ vers l'arrivée"
      ],
      "execution_count": null,
      "outputs": []
    },
    {
      "cell_type": "code",
      "metadata": {
        "id": "cZHOaM3TgTId"
      },
      "source": [
        "def meta_graph_route_to_route (meta_graph_route, routing_tables) :\n",
        "  final_path=[]\n",
        "  for i in range (len(meta_graph_route)-1):\n",
        "    final_path+=find_route (routing_tables[meta_graph_route[i]], meta_graph_route[i], meta_graph_route[i+1])\n",
        "  return final_path\n",
        "    # Return the sequence of locations in the maze to perform a route in the meta-graph"
      ],
      "execution_count": null,
      "outputs": []
    },
    {
      "cell_type": "code",
      "metadata": {
        "id": "ppsmOuVknhjt"
      },
      "source": [
        "list_moves=[]\n",
        "def preprocessing (maze_map, maze_width, maze_height, player_location, opponent_location, pieces_of_cheese, time_allowed) :\n",
        "       # Implement the list of moves to perform in the preprocess\n",
        "    global list_moves\n",
        "    #list_moves = moves_from_locations(find_route(traversal(player_location,maze_map)[0],player_location,pieces_of_cheese[0]))\n",
        "   \n",
        "    meta_graph, routing_table_cheeses = build_meta_graph (maze_map, [player_location]+pieces_of_cheese)\n",
        "    list_moves = moves_from_locations(meta_graph_route_to_route (implementation_griddy(player_location, meta_graph) , routing_table_cheeses))"
      ],
      "execution_count": null,
      "outputs": []
    },
    {
      "cell_type": "code",
      "metadata": {
        "id": "r8X7DpEPfkTQ"
      },
      "source": [
        "#turn va renvoyer le dernier move de la liste \"list_moves\" à chaque appel\n",
        "def turn (maze_map, maze_width, maze_height, player_location, opponent_location, player_score, opponent_score, pieces_of_cheese, time_allowed) :\n",
        "    global list_moves\n",
        "   # print(pieces_of_cheese)\n",
        "    if len(list_moves) > 0 :\n",
        "       return list_moves.pop(0) #on extrait le premier élément et on le retourne  \n",
        "    else :\n",
        "      Exception (\"Pas de Mouvement\")  \n",
        "      #raise Exception (\"Pas de Mouvement\")"
      ],
      "execution_count": null,
      "outputs": []
    }
  ]
}